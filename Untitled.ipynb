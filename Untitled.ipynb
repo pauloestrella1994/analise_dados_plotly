{
 "cells": [
  {
   "cell_type": "code",
   "execution_count": 26,
   "id": "591a181e",
   "metadata": {},
   "outputs": [],
   "source": [
    "import pandas as pd\n",
    "import numpy as np\n",
    "from openpyxl import load_workbook\n",
    "import plotly.express as px\n",
    "import plotly.graph_objects as go"
   ]
  },
  {
   "cell_type": "code",
   "execution_count": 30,
   "id": "cf454414",
   "metadata": {},
   "outputs": [],
   "source": [
    "df_ev_atos = pd.read_csv('atos.csv')\n",
    "df_ev_atos.rename(columns={\n",
    "    '1º': '1ato', '2º': '2ato', '3º': '3ato',\n",
    "    '4º': '4ato', '5º': '5ato', '6º': '6ato',\n",
    "    '7º': '7ato', '8º': '8ato', '9º': '9ato'}, inplace=True)"
   ]
  },
  {
   "cell_type": "code",
   "execution_count": 31,
   "id": "12c21abc",
   "metadata": {},
   "outputs": [
    {
     "data": {
      "application/vnd.plotly.v1+json": {
       "config": {
        "plotlyServerURL": "https://plot.ly"
       },
       "data": [
        {
         "hovertemplate": "variable=1ato<br>periodo=%{x}<br>value=%{y}<extra></extra>",
         "legendgroup": "1ato",
         "line": {
          "color": "#636efa",
          "dash": "solid"
         },
         "mode": "lines",
         "name": "1ato",
         "orientation": "v",
         "showlegend": true,
         "type": "scatter",
         "x": [
          "1º Semestre 2005",
          "2º Semestre 2005",
          "1º Semestre 2006",
          "2º Semestre 2006",
          "1º Semestre 2007",
          "2º Semestre 2007",
          "1º Semestre 2008",
          "2º Semestre 2008",
          "1º Semestre 2009",
          "2º Semestre 2009",
          "1º Semestre 2010",
          "2º Semestre 2010",
          "1º Semestre 2011",
          "2º Semestre 2011",
          "1º Semestre 2012",
          "2º Semestre 2012",
          "1º Semestre 2013",
          "2º Semestre 2013",
          "1º Semestre 2014",
          "2º Semestre 2014",
          "1º Semestre 2015",
          "2º Semestre 2015",
          "1º Semestre 2016",
          "2º Semestre 2016",
          "1º Semestre 2017",
          "2º Semestre 2017",
          "1º Semestre 2018",
          "2º Semestre 2018",
          "1º Semestre 2019",
          "2º Semestre 2019"
         ],
         "xaxis": "x",
         "y": [
          10001,
          9886,
          6752,
          6036,
          5549,
          6780,
          5197,
          7333,
          6453,
          6306,
          6574,
          8192,
          7568,
          8211,
          8970,
          11753,
          11754,
          11091,
          12961,
          11036,
          9195,
          11099,
          9831,
          10613,
          11616,
          11810,
          12479,
          13428,
          11290,
          15153
         ],
         "yaxis": "y"
        },
        {
         "hovertemplate": "variable=2ato<br>periodo=%{x}<br>value=%{y}<extra></extra>",
         "legendgroup": "2ato",
         "line": {
          "color": "#EF553B",
          "dash": "solid"
         },
         "mode": "lines",
         "name": "2ato",
         "orientation": "v",
         "showlegend": true,
         "type": "scatter",
         "x": [
          "1º Semestre 2005",
          "2º Semestre 2005",
          "1º Semestre 2006",
          "2º Semestre 2006",
          "1º Semestre 2007",
          "2º Semestre 2007",
          "1º Semestre 2008",
          "2º Semestre 2008",
          "1º Semestre 2009",
          "2º Semestre 2009",
          "1º Semestre 2010",
          "2º Semestre 2010",
          "1º Semestre 2011",
          "2º Semestre 2011",
          "1º Semestre 2012",
          "2º Semestre 2012",
          "1º Semestre 2013",
          "2º Semestre 2013",
          "1º Semestre 2014",
          "2º Semestre 2014",
          "1º Semestre 2015",
          "2º Semestre 2015",
          "1º Semestre 2016",
          "2º Semestre 2016",
          "1º Semestre 2017",
          "2º Semestre 2017",
          "1º Semestre 2018",
          "2º Semestre 2018",
          "1º Semestre 2019",
          "2º Semestre 2019"
         ],
         "xaxis": "x",
         "y": [
          7730,
          7778,
          4187,
          4652,
          5041,
          6118,
          4273,
          4564,
          5271,
          5877,
          5314,
          6531,
          6462,
          7520,
          7368,
          8453,
          8294,
          7766,
          10012,
          5490,
          6053,
          8910,
          6776,
          6522,
          6741,
          7808,
          7366,
          8699,
          6789,
          8250
         ],
         "yaxis": "y"
        },
        {
         "hovertemplate": "variable=3ato<br>periodo=%{x}<br>value=%{y}<extra></extra>",
         "legendgroup": "3ato",
         "line": {
          "color": "#00cc96",
          "dash": "solid"
         },
         "mode": "lines",
         "name": "3ato",
         "orientation": "v",
         "showlegend": true,
         "type": "scatter",
         "x": [
          "1º Semestre 2005",
          "2º Semestre 2005",
          "1º Semestre 2006",
          "2º Semestre 2006",
          "1º Semestre 2007",
          "2º Semestre 2007",
          "1º Semestre 2008",
          "2º Semestre 2008",
          "1º Semestre 2009",
          "2º Semestre 2009",
          "1º Semestre 2010",
          "2º Semestre 2010",
          "1º Semestre 2011",
          "2º Semestre 2011",
          "1º Semestre 2012",
          "2º Semestre 2012",
          "1º Semestre 2013",
          "2º Semestre 2013",
          "1º Semestre 2014",
          "2º Semestre 2014",
          "1º Semestre 2015",
          "2º Semestre 2015",
          "1º Semestre 2016",
          "2º Semestre 2016",
          "1º Semestre 2017",
          "2º Semestre 2017",
          "1º Semestre 2018",
          "2º Semestre 2018",
          "1º Semestre 2019",
          "2º Semestre 2019"
         ],
         "xaxis": "x",
         "y": [
          3405,
          3344,
          1750,
          1985,
          1980,
          1740,
          1923,
          2020,
          1905,
          2079,
          2287,
          1953,
          1891,
          1679,
          1910,
          2496,
          2777,
          2787,
          2445,
          2440,
          2074,
          1996,
          2130,
          1666,
          1798,
          2254,
          3083,
          7123,
          6812,
          7652
         ],
         "yaxis": "y"
        },
        {
         "hovertemplate": "variable=4ato<br>periodo=%{x}<br>value=%{y}<extra></extra>",
         "legendgroup": "4ato",
         "line": {
          "color": "#ab63fa",
          "dash": "solid"
         },
         "mode": "lines",
         "name": "4ato",
         "orientation": "v",
         "showlegend": true,
         "type": "scatter",
         "x": [
          "1º Semestre 2005",
          "2º Semestre 2005",
          "1º Semestre 2006",
          "2º Semestre 2006",
          "1º Semestre 2007",
          "2º Semestre 2007",
          "1º Semestre 2008",
          "2º Semestre 2008",
          "1º Semestre 2009",
          "2º Semestre 2009",
          "1º Semestre 2010",
          "2º Semestre 2010",
          "1º Semestre 2011",
          "2º Semestre 2011",
          "1º Semestre 2012",
          "2º Semestre 2012",
          "1º Semestre 2013",
          "2º Semestre 2013",
          "1º Semestre 2014",
          "2º Semestre 2014",
          "1º Semestre 2015",
          "2º Semestre 2015",
          "1º Semestre 2016",
          "2º Semestre 2016",
          "1º Semestre 2017",
          "2º Semestre 2017",
          "1º Semestre 2018",
          "2º Semestre 2018",
          "1º Semestre 2019",
          "2º Semestre 2019"
         ],
         "xaxis": "x",
         "y": [
          10344,
          11184,
          6370,
          7107,
          7127,
          7905,
          5987,
          8087,
          6768,
          6456,
          6497,
          6720,
          6857,
          7304,
          7937,
          8538,
          6467,
          7348,
          7521,
          8741,
          5402,
          5826,
          7324,
          7596,
          6958,
          8583,
          7982,
          9638,
          8190,
          9094
         ],
         "yaxis": "y"
        },
        {
         "hovertemplate": "variable=5ato<br>periodo=%{x}<br>value=%{y}<extra></extra>",
         "legendgroup": "5ato",
         "line": {
          "color": "#FFA15A",
          "dash": "solid"
         },
         "mode": "lines",
         "name": "5ato",
         "orientation": "v",
         "showlegend": true,
         "type": "scatter",
         "x": [
          "1º Semestre 2005",
          "2º Semestre 2005",
          "1º Semestre 2006",
          "2º Semestre 2006",
          "1º Semestre 2007",
          "2º Semestre 2007",
          "1º Semestre 2008",
          "2º Semestre 2008",
          "1º Semestre 2009",
          "2º Semestre 2009",
          "1º Semestre 2010",
          "2º Semestre 2010",
          "1º Semestre 2011",
          "2º Semestre 2011",
          "1º Semestre 2012",
          "2º Semestre 2012",
          "1º Semestre 2013",
          "2º Semestre 2013",
          "1º Semestre 2014",
          "2º Semestre 2014",
          "1º Semestre 2015",
          "2º Semestre 2015",
          "1º Semestre 2016",
          "2º Semestre 2016",
          "1º Semestre 2017",
          "2º Semestre 2017",
          "1º Semestre 2018",
          "2º Semestre 2018",
          "1º Semestre 2019",
          "2º Semestre 2019"
         ],
         "xaxis": "x",
         "y": [
          10088,
          9990,
          5031,
          4699,
          5674,
          6275,
          5065,
          6914,
          6020,
          5430,
          6324,
          7711,
          6696,
          6522,
          6173,
          7723,
          6206,
          4207,
          3990,
          3393,
          3141,
          3149,
          3088,
          4240,
          5550,
          5687,
          5268,
          6094,
          4250,
          7552
         ],
         "yaxis": "y"
        },
        {
         "hovertemplate": "variable=6ato<br>periodo=%{x}<br>value=%{y}<extra></extra>",
         "legendgroup": "6ato",
         "line": {
          "color": "#19d3f3",
          "dash": "solid"
         },
         "mode": "lines",
         "name": "6ato",
         "orientation": "v",
         "showlegend": true,
         "type": "scatter",
         "x": [
          "1º Semestre 2005",
          "2º Semestre 2005",
          "1º Semestre 2006",
          "2º Semestre 2006",
          "1º Semestre 2007",
          "2º Semestre 2007",
          "1º Semestre 2008",
          "2º Semestre 2008",
          "1º Semestre 2009",
          "2º Semestre 2009",
          "1º Semestre 2010",
          "2º Semestre 2010",
          "1º Semestre 2011",
          "2º Semestre 2011",
          "1º Semestre 2012",
          "2º Semestre 2012",
          "1º Semestre 2013",
          "2º Semestre 2013",
          "1º Semestre 2014",
          "2º Semestre 2014",
          "1º Semestre 2015",
          "2º Semestre 2015",
          "1º Semestre 2016",
          "2º Semestre 2016",
          "1º Semestre 2017",
          "2º Semestre 2017",
          "1º Semestre 2018",
          "2º Semestre 2018",
          "1º Semestre 2019",
          "2º Semestre 2019"
         ],
         "xaxis": "x",
         "y": [
          7818,
          7685,
          3879,
          3519,
          4512,
          6366,
          5525,
          5842,
          5974,
          6282,
          5620,
          5933,
          6217,
          7623,
          7173,
          6740,
          6259,
          7053,
          25085,
          22857,
          22482,
          24076,
          21051,
          18042,
          19782,
          22520,
          21175,
          25252,
          16772,
          22322
         ],
         "yaxis": "y"
        },
        {
         "hovertemplate": "variable=7ato<br>periodo=%{x}<br>value=%{y}<extra></extra>",
         "legendgroup": "7ato",
         "line": {
          "color": "#FF6692",
          "dash": "solid"
         },
         "mode": "lines",
         "name": "7ato",
         "orientation": "v",
         "showlegend": true,
         "type": "scatter",
         "x": [
          "1º Semestre 2005",
          "2º Semestre 2005",
          "1º Semestre 2006",
          "2º Semestre 2006",
          "1º Semestre 2007",
          "2º Semestre 2007",
          "1º Semestre 2008",
          "2º Semestre 2008",
          "1º Semestre 2009",
          "2º Semestre 2009",
          "1º Semestre 2010",
          "2º Semestre 2010",
          "1º Semestre 2011",
          "2º Semestre 2011",
          "1º Semestre 2012",
          "2º Semestre 2012",
          "1º Semestre 2013",
          "2º Semestre 2013",
          "1º Semestre 2014",
          "2º Semestre 2014",
          "1º Semestre 2015",
          "2º Semestre 2015",
          "1º Semestre 2016",
          "2º Semestre 2016",
          "1º Semestre 2017",
          "2º Semestre 2017",
          "1º Semestre 2018",
          "2º Semestre 2018",
          "1º Semestre 2019",
          "2º Semestre 2019"
         ],
         "xaxis": "x",
         "y": [
          2147,
          2263,
          1298,
          1415,
          1327,
          1428,
          1123,
          1331,
          1364,
          1800,
          1334,
          1445,
          1223,
          1427,
          1264,
          1241,
          1963,
          1927,
          1560,
          1444,
          1065,
          1085,
          996,
          1020,
          1048,
          3184,
          3481,
          3994,
          3144,
          4254
         ],
         "yaxis": "y"
        },
        {
         "hovertemplate": "variable=8ato<br>periodo=%{x}<br>value=%{y}<extra></extra>",
         "legendgroup": "8ato",
         "line": {
          "color": "#B6E880",
          "dash": "solid"
         },
         "mode": "lines",
         "name": "8ato",
         "orientation": "v",
         "showlegend": true,
         "type": "scatter",
         "x": [
          "1º Semestre 2005",
          "2º Semestre 2005",
          "1º Semestre 2006",
          "2º Semestre 2006",
          "1º Semestre 2007",
          "2º Semestre 2007",
          "1º Semestre 2008",
          "2º Semestre 2008",
          "1º Semestre 2009",
          "2º Semestre 2009",
          "1º Semestre 2010",
          "2º Semestre 2010",
          "1º Semestre 2011",
          "2º Semestre 2011",
          "1º Semestre 2012",
          "2º Semestre 2012",
          "1º Semestre 2013",
          "2º Semestre 2013",
          "1º Semestre 2014",
          "2º Semestre 2014",
          "1º Semestre 2015",
          "2º Semestre 2015",
          "1º Semestre 2016",
          "2º Semestre 2016",
          "1º Semestre 2017",
          "2º Semestre 2017",
          "1º Semestre 2018",
          "2º Semestre 2018",
          "1º Semestre 2019",
          "2º Semestre 2019"
         ],
         "xaxis": "x",
         "y": [
          23771,
          27375,
          13596,
          13013,
          16129,
          17505,
          15094,
          15942,
          15385,
          14872,
          18214,
          14229,
          21634,
          27695,
          27256,
          31377,
          21945,
          31168,
          62576,
          47167,
          58269,
          47172,
          77993,
          102785,
          88571,
          108845,
          119052,
          130627,
          128819,
          171226
         ],
         "yaxis": "y"
        },
        {
         "hovertemplate": "variable=9ato<br>periodo=%{x}<br>value=%{y}<extra></extra>",
         "legendgroup": "9ato",
         "line": {
          "color": "#FF97FF",
          "dash": "solid"
         },
         "mode": "lines",
         "name": "9ato",
         "orientation": "v",
         "showlegend": true,
         "type": "scatter",
         "x": [
          "1º Semestre 2005",
          "2º Semestre 2005",
          "1º Semestre 2006",
          "2º Semestre 2006",
          "1º Semestre 2007",
          "2º Semestre 2007",
          "1º Semestre 2008",
          "2º Semestre 2008",
          "1º Semestre 2009",
          "2º Semestre 2009",
          "1º Semestre 2010",
          "2º Semestre 2010",
          "1º Semestre 2011",
          "2º Semestre 2011",
          "1º Semestre 2012",
          "2º Semestre 2012",
          "1º Semestre 2013",
          "2º Semestre 2013",
          "1º Semestre 2014",
          "2º Semestre 2014",
          "1º Semestre 2015",
          "2º Semestre 2015",
          "1º Semestre 2016",
          "2º Semestre 2016",
          "1º Semestre 2017",
          "2º Semestre 2017",
          "1º Semestre 2018",
          "2º Semestre 2018",
          "1º Semestre 2019",
          "2º Semestre 2019"
         ],
         "xaxis": "x",
         "y": [
          2756,
          2792,
          1516,
          1480,
          1620,
          2435,
          2775,
          5649,
          6824,
          7014,
          6859,
          5750,
          6895,
          8201,
          7683,
          9,
          7253,
          7849,
          7105,
          6554,
          7710,
          6524,
          6206,
          5831,
          6346,
          7204,
          7268,
          7938,
          6987,
          9466
         ],
         "yaxis": "y"
        }
       ],
       "layout": {
        "legend": {
         "title": {
          "text": "variable"
         },
         "tracegroupgap": 0
        },
        "template": {
         "data": {
          "bar": [
           {
            "error_x": {
             "color": "#2a3f5f"
            },
            "error_y": {
             "color": "#2a3f5f"
            },
            "marker": {
             "line": {
              "color": "#E5ECF6",
              "width": 0.5
             },
             "pattern": {
              "fillmode": "overlay",
              "size": 10,
              "solidity": 0.2
             }
            },
            "type": "bar"
           }
          ],
          "barpolar": [
           {
            "marker": {
             "line": {
              "color": "#E5ECF6",
              "width": 0.5
             },
             "pattern": {
              "fillmode": "overlay",
              "size": 10,
              "solidity": 0.2
             }
            },
            "type": "barpolar"
           }
          ],
          "carpet": [
           {
            "aaxis": {
             "endlinecolor": "#2a3f5f",
             "gridcolor": "white",
             "linecolor": "white",
             "minorgridcolor": "white",
             "startlinecolor": "#2a3f5f"
            },
            "baxis": {
             "endlinecolor": "#2a3f5f",
             "gridcolor": "white",
             "linecolor": "white",
             "minorgridcolor": "white",
             "startlinecolor": "#2a3f5f"
            },
            "type": "carpet"
           }
          ],
          "choropleth": [
           {
            "colorbar": {
             "outlinewidth": 0,
             "ticks": ""
            },
            "type": "choropleth"
           }
          ],
          "contour": [
           {
            "colorbar": {
             "outlinewidth": 0,
             "ticks": ""
            },
            "colorscale": [
             [
              0,
              "#0d0887"
             ],
             [
              0.1111111111111111,
              "#46039f"
             ],
             [
              0.2222222222222222,
              "#7201a8"
             ],
             [
              0.3333333333333333,
              "#9c179e"
             ],
             [
              0.4444444444444444,
              "#bd3786"
             ],
             [
              0.5555555555555556,
              "#d8576b"
             ],
             [
              0.6666666666666666,
              "#ed7953"
             ],
             [
              0.7777777777777778,
              "#fb9f3a"
             ],
             [
              0.8888888888888888,
              "#fdca26"
             ],
             [
              1,
              "#f0f921"
             ]
            ],
            "type": "contour"
           }
          ],
          "contourcarpet": [
           {
            "colorbar": {
             "outlinewidth": 0,
             "ticks": ""
            },
            "type": "contourcarpet"
           }
          ],
          "heatmap": [
           {
            "colorbar": {
             "outlinewidth": 0,
             "ticks": ""
            },
            "colorscale": [
             [
              0,
              "#0d0887"
             ],
             [
              0.1111111111111111,
              "#46039f"
             ],
             [
              0.2222222222222222,
              "#7201a8"
             ],
             [
              0.3333333333333333,
              "#9c179e"
             ],
             [
              0.4444444444444444,
              "#bd3786"
             ],
             [
              0.5555555555555556,
              "#d8576b"
             ],
             [
              0.6666666666666666,
              "#ed7953"
             ],
             [
              0.7777777777777778,
              "#fb9f3a"
             ],
             [
              0.8888888888888888,
              "#fdca26"
             ],
             [
              1,
              "#f0f921"
             ]
            ],
            "type": "heatmap"
           }
          ],
          "heatmapgl": [
           {
            "colorbar": {
             "outlinewidth": 0,
             "ticks": ""
            },
            "colorscale": [
             [
              0,
              "#0d0887"
             ],
             [
              0.1111111111111111,
              "#46039f"
             ],
             [
              0.2222222222222222,
              "#7201a8"
             ],
             [
              0.3333333333333333,
              "#9c179e"
             ],
             [
              0.4444444444444444,
              "#bd3786"
             ],
             [
              0.5555555555555556,
              "#d8576b"
             ],
             [
              0.6666666666666666,
              "#ed7953"
             ],
             [
              0.7777777777777778,
              "#fb9f3a"
             ],
             [
              0.8888888888888888,
              "#fdca26"
             ],
             [
              1,
              "#f0f921"
             ]
            ],
            "type": "heatmapgl"
           }
          ],
          "histogram": [
           {
            "marker": {
             "pattern": {
              "fillmode": "overlay",
              "size": 10,
              "solidity": 0.2
             }
            },
            "type": "histogram"
           }
          ],
          "histogram2d": [
           {
            "colorbar": {
             "outlinewidth": 0,
             "ticks": ""
            },
            "colorscale": [
             [
              0,
              "#0d0887"
             ],
             [
              0.1111111111111111,
              "#46039f"
             ],
             [
              0.2222222222222222,
              "#7201a8"
             ],
             [
              0.3333333333333333,
              "#9c179e"
             ],
             [
              0.4444444444444444,
              "#bd3786"
             ],
             [
              0.5555555555555556,
              "#d8576b"
             ],
             [
              0.6666666666666666,
              "#ed7953"
             ],
             [
              0.7777777777777778,
              "#fb9f3a"
             ],
             [
              0.8888888888888888,
              "#fdca26"
             ],
             [
              1,
              "#f0f921"
             ]
            ],
            "type": "histogram2d"
           }
          ],
          "histogram2dcontour": [
           {
            "colorbar": {
             "outlinewidth": 0,
             "ticks": ""
            },
            "colorscale": [
             [
              0,
              "#0d0887"
             ],
             [
              0.1111111111111111,
              "#46039f"
             ],
             [
              0.2222222222222222,
              "#7201a8"
             ],
             [
              0.3333333333333333,
              "#9c179e"
             ],
             [
              0.4444444444444444,
              "#bd3786"
             ],
             [
              0.5555555555555556,
              "#d8576b"
             ],
             [
              0.6666666666666666,
              "#ed7953"
             ],
             [
              0.7777777777777778,
              "#fb9f3a"
             ],
             [
              0.8888888888888888,
              "#fdca26"
             ],
             [
              1,
              "#f0f921"
             ]
            ],
            "type": "histogram2dcontour"
           }
          ],
          "mesh3d": [
           {
            "colorbar": {
             "outlinewidth": 0,
             "ticks": ""
            },
            "type": "mesh3d"
           }
          ],
          "parcoords": [
           {
            "line": {
             "colorbar": {
              "outlinewidth": 0,
              "ticks": ""
             }
            },
            "type": "parcoords"
           }
          ],
          "pie": [
           {
            "automargin": true,
            "type": "pie"
           }
          ],
          "scatter": [
           {
            "marker": {
             "colorbar": {
              "outlinewidth": 0,
              "ticks": ""
             }
            },
            "type": "scatter"
           }
          ],
          "scatter3d": [
           {
            "line": {
             "colorbar": {
              "outlinewidth": 0,
              "ticks": ""
             }
            },
            "marker": {
             "colorbar": {
              "outlinewidth": 0,
              "ticks": ""
             }
            },
            "type": "scatter3d"
           }
          ],
          "scattercarpet": [
           {
            "marker": {
             "colorbar": {
              "outlinewidth": 0,
              "ticks": ""
             }
            },
            "type": "scattercarpet"
           }
          ],
          "scattergeo": [
           {
            "marker": {
             "colorbar": {
              "outlinewidth": 0,
              "ticks": ""
             }
            },
            "type": "scattergeo"
           }
          ],
          "scattergl": [
           {
            "marker": {
             "colorbar": {
              "outlinewidth": 0,
              "ticks": ""
             }
            },
            "type": "scattergl"
           }
          ],
          "scattermapbox": [
           {
            "marker": {
             "colorbar": {
              "outlinewidth": 0,
              "ticks": ""
             }
            },
            "type": "scattermapbox"
           }
          ],
          "scatterpolar": [
           {
            "marker": {
             "colorbar": {
              "outlinewidth": 0,
              "ticks": ""
             }
            },
            "type": "scatterpolar"
           }
          ],
          "scatterpolargl": [
           {
            "marker": {
             "colorbar": {
              "outlinewidth": 0,
              "ticks": ""
             }
            },
            "type": "scatterpolargl"
           }
          ],
          "scatterternary": [
           {
            "marker": {
             "colorbar": {
              "outlinewidth": 0,
              "ticks": ""
             }
            },
            "type": "scatterternary"
           }
          ],
          "surface": [
           {
            "colorbar": {
             "outlinewidth": 0,
             "ticks": ""
            },
            "colorscale": [
             [
              0,
              "#0d0887"
             ],
             [
              0.1111111111111111,
              "#46039f"
             ],
             [
              0.2222222222222222,
              "#7201a8"
             ],
             [
              0.3333333333333333,
              "#9c179e"
             ],
             [
              0.4444444444444444,
              "#bd3786"
             ],
             [
              0.5555555555555556,
              "#d8576b"
             ],
             [
              0.6666666666666666,
              "#ed7953"
             ],
             [
              0.7777777777777778,
              "#fb9f3a"
             ],
             [
              0.8888888888888888,
              "#fdca26"
             ],
             [
              1,
              "#f0f921"
             ]
            ],
            "type": "surface"
           }
          ],
          "table": [
           {
            "cells": {
             "fill": {
              "color": "#EBF0F8"
             },
             "line": {
              "color": "white"
             }
            },
            "header": {
             "fill": {
              "color": "#C8D4E3"
             },
             "line": {
              "color": "white"
             }
            },
            "type": "table"
           }
          ]
         },
         "layout": {
          "annotationdefaults": {
           "arrowcolor": "#2a3f5f",
           "arrowhead": 0,
           "arrowwidth": 1
          },
          "autotypenumbers": "strict",
          "coloraxis": {
           "colorbar": {
            "outlinewidth": 0,
            "ticks": ""
           }
          },
          "colorscale": {
           "diverging": [
            [
             0,
             "#8e0152"
            ],
            [
             0.1,
             "#c51b7d"
            ],
            [
             0.2,
             "#de77ae"
            ],
            [
             0.3,
             "#f1b6da"
            ],
            [
             0.4,
             "#fde0ef"
            ],
            [
             0.5,
             "#f7f7f7"
            ],
            [
             0.6,
             "#e6f5d0"
            ],
            [
             0.7,
             "#b8e186"
            ],
            [
             0.8,
             "#7fbc41"
            ],
            [
             0.9,
             "#4d9221"
            ],
            [
             1,
             "#276419"
            ]
           ],
           "sequential": [
            [
             0,
             "#0d0887"
            ],
            [
             0.1111111111111111,
             "#46039f"
            ],
            [
             0.2222222222222222,
             "#7201a8"
            ],
            [
             0.3333333333333333,
             "#9c179e"
            ],
            [
             0.4444444444444444,
             "#bd3786"
            ],
            [
             0.5555555555555556,
             "#d8576b"
            ],
            [
             0.6666666666666666,
             "#ed7953"
            ],
            [
             0.7777777777777778,
             "#fb9f3a"
            ],
            [
             0.8888888888888888,
             "#fdca26"
            ],
            [
             1,
             "#f0f921"
            ]
           ],
           "sequentialminus": [
            [
             0,
             "#0d0887"
            ],
            [
             0.1111111111111111,
             "#46039f"
            ],
            [
             0.2222222222222222,
             "#7201a8"
            ],
            [
             0.3333333333333333,
             "#9c179e"
            ],
            [
             0.4444444444444444,
             "#bd3786"
            ],
            [
             0.5555555555555556,
             "#d8576b"
            ],
            [
             0.6666666666666666,
             "#ed7953"
            ],
            [
             0.7777777777777778,
             "#fb9f3a"
            ],
            [
             0.8888888888888888,
             "#fdca26"
            ],
            [
             1,
             "#f0f921"
            ]
           ]
          },
          "colorway": [
           "#636efa",
           "#EF553B",
           "#00cc96",
           "#ab63fa",
           "#FFA15A",
           "#19d3f3",
           "#FF6692",
           "#B6E880",
           "#FF97FF",
           "#FECB52"
          ],
          "font": {
           "color": "#2a3f5f"
          },
          "geo": {
           "bgcolor": "white",
           "lakecolor": "white",
           "landcolor": "#E5ECF6",
           "showlakes": true,
           "showland": true,
           "subunitcolor": "white"
          },
          "hoverlabel": {
           "align": "left"
          },
          "hovermode": "closest",
          "mapbox": {
           "style": "light"
          },
          "paper_bgcolor": "white",
          "plot_bgcolor": "#E5ECF6",
          "polar": {
           "angularaxis": {
            "gridcolor": "white",
            "linecolor": "white",
            "ticks": ""
           },
           "bgcolor": "#E5ECF6",
           "radialaxis": {
            "gridcolor": "white",
            "linecolor": "white",
            "ticks": ""
           }
          },
          "scene": {
           "xaxis": {
            "backgroundcolor": "#E5ECF6",
            "gridcolor": "white",
            "gridwidth": 2,
            "linecolor": "white",
            "showbackground": true,
            "ticks": "",
            "zerolinecolor": "white"
           },
           "yaxis": {
            "backgroundcolor": "#E5ECF6",
            "gridcolor": "white",
            "gridwidth": 2,
            "linecolor": "white",
            "showbackground": true,
            "ticks": "",
            "zerolinecolor": "white"
           },
           "zaxis": {
            "backgroundcolor": "#E5ECF6",
            "gridcolor": "white",
            "gridwidth": 2,
            "linecolor": "white",
            "showbackground": true,
            "ticks": "",
            "zerolinecolor": "white"
           }
          },
          "shapedefaults": {
           "line": {
            "color": "#2a3f5f"
           }
          },
          "ternary": {
           "aaxis": {
            "gridcolor": "white",
            "linecolor": "white",
            "ticks": ""
           },
           "baxis": {
            "gridcolor": "white",
            "linecolor": "white",
            "ticks": ""
           },
           "bgcolor": "#E5ECF6",
           "caxis": {
            "gridcolor": "white",
            "linecolor": "white",
            "ticks": ""
           }
          },
          "title": {
           "x": 0.05
          },
          "xaxis": {
           "automargin": true,
           "gridcolor": "white",
           "linecolor": "white",
           "ticks": "",
           "title": {
            "standoff": 15
           },
           "zerolinecolor": "white",
           "zerolinewidth": 2
          },
          "yaxis": {
           "automargin": true,
           "gridcolor": "white",
           "linecolor": "white",
           "ticks": "",
           "title": {
            "standoff": 15
           },
           "zerolinecolor": "white",
           "zerolinewidth": 2
          }
         }
        },
        "title": {
         "text": "Número de Atos por Região"
        },
        "xaxis": {
         "anchor": "y",
         "domain": [
          0,
          1
         ],
         "title": {
          "text": "periodo"
         }
        },
        "yaxis": {
         "anchor": "x",
         "domain": [
          0,
          1
         ],
         "title": {
          "text": "value"
         }
        }
       }
      },
      "text/html": [
       "<div>                            <div id=\"f1cd4ff2-701f-409b-8771-12b6dc95cf79\" class=\"plotly-graph-div\" style=\"height:525px; width:100%;\"></div>            <script type=\"text/javascript\">                require([\"plotly\"], function(Plotly) {                    window.PLOTLYENV=window.PLOTLYENV || {};                                    if (document.getElementById(\"f1cd4ff2-701f-409b-8771-12b6dc95cf79\")) {                    Plotly.newPlot(                        \"f1cd4ff2-701f-409b-8771-12b6dc95cf79\",                        [{\"hovertemplate\":\"variable=1ato<br>periodo=%{x}<br>value=%{y}<extra></extra>\",\"legendgroup\":\"1ato\",\"line\":{\"color\":\"#636efa\",\"dash\":\"solid\"},\"mode\":\"lines\",\"name\":\"1ato\",\"orientation\":\"v\",\"showlegend\":true,\"type\":\"scatter\",\"x\":[\"1\\u00ba Semestre 2005\",\"2\\u00ba Semestre 2005\",\"1\\u00ba Semestre 2006\",\"2\\u00ba Semestre 2006\",\"1\\u00ba Semestre 2007\",\"2\\u00ba Semestre 2007\",\"1\\u00ba Semestre 2008\",\"2\\u00ba Semestre 2008\",\"1\\u00ba Semestre 2009\",\"2\\u00ba Semestre 2009\",\"1\\u00ba Semestre 2010\",\"2\\u00ba Semestre 2010\",\"1\\u00ba Semestre 2011\",\"2\\u00ba Semestre 2011\",\"1\\u00ba Semestre 2012\",\"2\\u00ba Semestre 2012\",\"1\\u00ba Semestre 2013\",\"2\\u00ba Semestre 2013\",\"1\\u00ba Semestre 2014\",\"2\\u00ba Semestre 2014\",\"1\\u00ba Semestre 2015\",\"2\\u00ba Semestre 2015\",\"1\\u00ba Semestre 2016\",\"2\\u00ba Semestre 2016\",\"1\\u00ba Semestre 2017\",\"2\\u00ba Semestre 2017\",\"1\\u00ba Semestre 2018\",\"2\\u00ba Semestre 2018\",\"1\\u00ba Semestre 2019\",\"2\\u00ba Semestre 2019\"],\"xaxis\":\"x\",\"y\":[10001,9886,6752,6036,5549,6780,5197,7333,6453,6306,6574,8192,7568,8211,8970,11753,11754,11091,12961,11036,9195,11099,9831,10613,11616,11810,12479,13428,11290,15153],\"yaxis\":\"y\"},{\"hovertemplate\":\"variable=2ato<br>periodo=%{x}<br>value=%{y}<extra></extra>\",\"legendgroup\":\"2ato\",\"line\":{\"color\":\"#EF553B\",\"dash\":\"solid\"},\"mode\":\"lines\",\"name\":\"2ato\",\"orientation\":\"v\",\"showlegend\":true,\"type\":\"scatter\",\"x\":[\"1\\u00ba Semestre 2005\",\"2\\u00ba Semestre 2005\",\"1\\u00ba Semestre 2006\",\"2\\u00ba Semestre 2006\",\"1\\u00ba Semestre 2007\",\"2\\u00ba Semestre 2007\",\"1\\u00ba Semestre 2008\",\"2\\u00ba Semestre 2008\",\"1\\u00ba Semestre 2009\",\"2\\u00ba Semestre 2009\",\"1\\u00ba Semestre 2010\",\"2\\u00ba Semestre 2010\",\"1\\u00ba Semestre 2011\",\"2\\u00ba Semestre 2011\",\"1\\u00ba Semestre 2012\",\"2\\u00ba Semestre 2012\",\"1\\u00ba Semestre 2013\",\"2\\u00ba Semestre 2013\",\"1\\u00ba Semestre 2014\",\"2\\u00ba Semestre 2014\",\"1\\u00ba Semestre 2015\",\"2\\u00ba Semestre 2015\",\"1\\u00ba Semestre 2016\",\"2\\u00ba Semestre 2016\",\"1\\u00ba Semestre 2017\",\"2\\u00ba Semestre 2017\",\"1\\u00ba Semestre 2018\",\"2\\u00ba Semestre 2018\",\"1\\u00ba Semestre 2019\",\"2\\u00ba Semestre 2019\"],\"xaxis\":\"x\",\"y\":[7730,7778,4187,4652,5041,6118,4273,4564,5271,5877,5314,6531,6462,7520,7368,8453,8294,7766,10012,5490,6053,8910,6776,6522,6741,7808,7366,8699,6789,8250],\"yaxis\":\"y\"},{\"hovertemplate\":\"variable=3ato<br>periodo=%{x}<br>value=%{y}<extra></extra>\",\"legendgroup\":\"3ato\",\"line\":{\"color\":\"#00cc96\",\"dash\":\"solid\"},\"mode\":\"lines\",\"name\":\"3ato\",\"orientation\":\"v\",\"showlegend\":true,\"type\":\"scatter\",\"x\":[\"1\\u00ba Semestre 2005\",\"2\\u00ba Semestre 2005\",\"1\\u00ba Semestre 2006\",\"2\\u00ba Semestre 2006\",\"1\\u00ba Semestre 2007\",\"2\\u00ba Semestre 2007\",\"1\\u00ba Semestre 2008\",\"2\\u00ba Semestre 2008\",\"1\\u00ba Semestre 2009\",\"2\\u00ba Semestre 2009\",\"1\\u00ba Semestre 2010\",\"2\\u00ba Semestre 2010\",\"1\\u00ba Semestre 2011\",\"2\\u00ba Semestre 2011\",\"1\\u00ba Semestre 2012\",\"2\\u00ba Semestre 2012\",\"1\\u00ba Semestre 2013\",\"2\\u00ba Semestre 2013\",\"1\\u00ba Semestre 2014\",\"2\\u00ba Semestre 2014\",\"1\\u00ba Semestre 2015\",\"2\\u00ba Semestre 2015\",\"1\\u00ba Semestre 2016\",\"2\\u00ba Semestre 2016\",\"1\\u00ba Semestre 2017\",\"2\\u00ba Semestre 2017\",\"1\\u00ba Semestre 2018\",\"2\\u00ba Semestre 2018\",\"1\\u00ba Semestre 2019\",\"2\\u00ba Semestre 2019\"],\"xaxis\":\"x\",\"y\":[3405,3344,1750,1985,1980,1740,1923,2020,1905,2079,2287,1953,1891,1679,1910,2496,2777,2787,2445,2440,2074,1996,2130,1666,1798,2254,3083,7123,6812,7652],\"yaxis\":\"y\"},{\"hovertemplate\":\"variable=4ato<br>periodo=%{x}<br>value=%{y}<extra></extra>\",\"legendgroup\":\"4ato\",\"line\":{\"color\":\"#ab63fa\",\"dash\":\"solid\"},\"mode\":\"lines\",\"name\":\"4ato\",\"orientation\":\"v\",\"showlegend\":true,\"type\":\"scatter\",\"x\":[\"1\\u00ba Semestre 2005\",\"2\\u00ba Semestre 2005\",\"1\\u00ba Semestre 2006\",\"2\\u00ba Semestre 2006\",\"1\\u00ba Semestre 2007\",\"2\\u00ba Semestre 2007\",\"1\\u00ba Semestre 2008\",\"2\\u00ba Semestre 2008\",\"1\\u00ba Semestre 2009\",\"2\\u00ba Semestre 2009\",\"1\\u00ba Semestre 2010\",\"2\\u00ba Semestre 2010\",\"1\\u00ba Semestre 2011\",\"2\\u00ba Semestre 2011\",\"1\\u00ba Semestre 2012\",\"2\\u00ba Semestre 2012\",\"1\\u00ba Semestre 2013\",\"2\\u00ba Semestre 2013\",\"1\\u00ba Semestre 2014\",\"2\\u00ba Semestre 2014\",\"1\\u00ba Semestre 2015\",\"2\\u00ba Semestre 2015\",\"1\\u00ba Semestre 2016\",\"2\\u00ba Semestre 2016\",\"1\\u00ba Semestre 2017\",\"2\\u00ba Semestre 2017\",\"1\\u00ba Semestre 2018\",\"2\\u00ba Semestre 2018\",\"1\\u00ba Semestre 2019\",\"2\\u00ba Semestre 2019\"],\"xaxis\":\"x\",\"y\":[10344,11184,6370,7107,7127,7905,5987,8087,6768,6456,6497,6720,6857,7304,7937,8538,6467,7348,7521,8741,5402,5826,7324,7596,6958,8583,7982,9638,8190,9094],\"yaxis\":\"y\"},{\"hovertemplate\":\"variable=5ato<br>periodo=%{x}<br>value=%{y}<extra></extra>\",\"legendgroup\":\"5ato\",\"line\":{\"color\":\"#FFA15A\",\"dash\":\"solid\"},\"mode\":\"lines\",\"name\":\"5ato\",\"orientation\":\"v\",\"showlegend\":true,\"type\":\"scatter\",\"x\":[\"1\\u00ba Semestre 2005\",\"2\\u00ba Semestre 2005\",\"1\\u00ba Semestre 2006\",\"2\\u00ba Semestre 2006\",\"1\\u00ba Semestre 2007\",\"2\\u00ba Semestre 2007\",\"1\\u00ba Semestre 2008\",\"2\\u00ba Semestre 2008\",\"1\\u00ba Semestre 2009\",\"2\\u00ba Semestre 2009\",\"1\\u00ba Semestre 2010\",\"2\\u00ba Semestre 2010\",\"1\\u00ba Semestre 2011\",\"2\\u00ba Semestre 2011\",\"1\\u00ba Semestre 2012\",\"2\\u00ba Semestre 2012\",\"1\\u00ba Semestre 2013\",\"2\\u00ba Semestre 2013\",\"1\\u00ba Semestre 2014\",\"2\\u00ba Semestre 2014\",\"1\\u00ba Semestre 2015\",\"2\\u00ba Semestre 2015\",\"1\\u00ba Semestre 2016\",\"2\\u00ba Semestre 2016\",\"1\\u00ba Semestre 2017\",\"2\\u00ba Semestre 2017\",\"1\\u00ba Semestre 2018\",\"2\\u00ba Semestre 2018\",\"1\\u00ba Semestre 2019\",\"2\\u00ba Semestre 2019\"],\"xaxis\":\"x\",\"y\":[10088,9990,5031,4699,5674,6275,5065,6914,6020,5430,6324,7711,6696,6522,6173,7723,6206,4207,3990,3393,3141,3149,3088,4240,5550,5687,5268,6094,4250,7552],\"yaxis\":\"y\"},{\"hovertemplate\":\"variable=6ato<br>periodo=%{x}<br>value=%{y}<extra></extra>\",\"legendgroup\":\"6ato\",\"line\":{\"color\":\"#19d3f3\",\"dash\":\"solid\"},\"mode\":\"lines\",\"name\":\"6ato\",\"orientation\":\"v\",\"showlegend\":true,\"type\":\"scatter\",\"x\":[\"1\\u00ba Semestre 2005\",\"2\\u00ba Semestre 2005\",\"1\\u00ba Semestre 2006\",\"2\\u00ba Semestre 2006\",\"1\\u00ba Semestre 2007\",\"2\\u00ba Semestre 2007\",\"1\\u00ba Semestre 2008\",\"2\\u00ba Semestre 2008\",\"1\\u00ba Semestre 2009\",\"2\\u00ba Semestre 2009\",\"1\\u00ba Semestre 2010\",\"2\\u00ba Semestre 2010\",\"1\\u00ba Semestre 2011\",\"2\\u00ba Semestre 2011\",\"1\\u00ba Semestre 2012\",\"2\\u00ba Semestre 2012\",\"1\\u00ba Semestre 2013\",\"2\\u00ba Semestre 2013\",\"1\\u00ba Semestre 2014\",\"2\\u00ba Semestre 2014\",\"1\\u00ba Semestre 2015\",\"2\\u00ba Semestre 2015\",\"1\\u00ba Semestre 2016\",\"2\\u00ba Semestre 2016\",\"1\\u00ba Semestre 2017\",\"2\\u00ba Semestre 2017\",\"1\\u00ba Semestre 2018\",\"2\\u00ba Semestre 2018\",\"1\\u00ba Semestre 2019\",\"2\\u00ba Semestre 2019\"],\"xaxis\":\"x\",\"y\":[7818,7685,3879,3519,4512,6366,5525,5842,5974,6282,5620,5933,6217,7623,7173,6740,6259,7053,25085,22857,22482,24076,21051,18042,19782,22520,21175,25252,16772,22322],\"yaxis\":\"y\"},{\"hovertemplate\":\"variable=7ato<br>periodo=%{x}<br>value=%{y}<extra></extra>\",\"legendgroup\":\"7ato\",\"line\":{\"color\":\"#FF6692\",\"dash\":\"solid\"},\"mode\":\"lines\",\"name\":\"7ato\",\"orientation\":\"v\",\"showlegend\":true,\"type\":\"scatter\",\"x\":[\"1\\u00ba Semestre 2005\",\"2\\u00ba Semestre 2005\",\"1\\u00ba Semestre 2006\",\"2\\u00ba Semestre 2006\",\"1\\u00ba Semestre 2007\",\"2\\u00ba Semestre 2007\",\"1\\u00ba Semestre 2008\",\"2\\u00ba Semestre 2008\",\"1\\u00ba Semestre 2009\",\"2\\u00ba Semestre 2009\",\"1\\u00ba Semestre 2010\",\"2\\u00ba Semestre 2010\",\"1\\u00ba Semestre 2011\",\"2\\u00ba Semestre 2011\",\"1\\u00ba Semestre 2012\",\"2\\u00ba Semestre 2012\",\"1\\u00ba Semestre 2013\",\"2\\u00ba Semestre 2013\",\"1\\u00ba Semestre 2014\",\"2\\u00ba Semestre 2014\",\"1\\u00ba Semestre 2015\",\"2\\u00ba Semestre 2015\",\"1\\u00ba Semestre 2016\",\"2\\u00ba Semestre 2016\",\"1\\u00ba Semestre 2017\",\"2\\u00ba Semestre 2017\",\"1\\u00ba Semestre 2018\",\"2\\u00ba Semestre 2018\",\"1\\u00ba Semestre 2019\",\"2\\u00ba Semestre 2019\"],\"xaxis\":\"x\",\"y\":[2147,2263,1298,1415,1327,1428,1123,1331,1364,1800,1334,1445,1223,1427,1264,1241,1963,1927,1560,1444,1065,1085,996,1020,1048,3184,3481,3994,3144,4254],\"yaxis\":\"y\"},{\"hovertemplate\":\"variable=8ato<br>periodo=%{x}<br>value=%{y}<extra></extra>\",\"legendgroup\":\"8ato\",\"line\":{\"color\":\"#B6E880\",\"dash\":\"solid\"},\"mode\":\"lines\",\"name\":\"8ato\",\"orientation\":\"v\",\"showlegend\":true,\"type\":\"scatter\",\"x\":[\"1\\u00ba Semestre 2005\",\"2\\u00ba Semestre 2005\",\"1\\u00ba Semestre 2006\",\"2\\u00ba Semestre 2006\",\"1\\u00ba Semestre 2007\",\"2\\u00ba Semestre 2007\",\"1\\u00ba Semestre 2008\",\"2\\u00ba Semestre 2008\",\"1\\u00ba Semestre 2009\",\"2\\u00ba Semestre 2009\",\"1\\u00ba Semestre 2010\",\"2\\u00ba Semestre 2010\",\"1\\u00ba Semestre 2011\",\"2\\u00ba Semestre 2011\",\"1\\u00ba Semestre 2012\",\"2\\u00ba Semestre 2012\",\"1\\u00ba Semestre 2013\",\"2\\u00ba Semestre 2013\",\"1\\u00ba Semestre 2014\",\"2\\u00ba Semestre 2014\",\"1\\u00ba Semestre 2015\",\"2\\u00ba Semestre 2015\",\"1\\u00ba Semestre 2016\",\"2\\u00ba Semestre 2016\",\"1\\u00ba Semestre 2017\",\"2\\u00ba Semestre 2017\",\"1\\u00ba Semestre 2018\",\"2\\u00ba Semestre 2018\",\"1\\u00ba Semestre 2019\",\"2\\u00ba Semestre 2019\"],\"xaxis\":\"x\",\"y\":[23771,27375,13596,13013,16129,17505,15094,15942,15385,14872,18214,14229,21634,27695,27256,31377,21945,31168,62576,47167,58269,47172,77993,102785,88571,108845,119052,130627,128819,171226],\"yaxis\":\"y\"},{\"hovertemplate\":\"variable=9ato<br>periodo=%{x}<br>value=%{y}<extra></extra>\",\"legendgroup\":\"9ato\",\"line\":{\"color\":\"#FF97FF\",\"dash\":\"solid\"},\"mode\":\"lines\",\"name\":\"9ato\",\"orientation\":\"v\",\"showlegend\":true,\"type\":\"scatter\",\"x\":[\"1\\u00ba Semestre 2005\",\"2\\u00ba Semestre 2005\",\"1\\u00ba Semestre 2006\",\"2\\u00ba Semestre 2006\",\"1\\u00ba Semestre 2007\",\"2\\u00ba Semestre 2007\",\"1\\u00ba Semestre 2008\",\"2\\u00ba Semestre 2008\",\"1\\u00ba Semestre 2009\",\"2\\u00ba Semestre 2009\",\"1\\u00ba Semestre 2010\",\"2\\u00ba Semestre 2010\",\"1\\u00ba Semestre 2011\",\"2\\u00ba Semestre 2011\",\"1\\u00ba Semestre 2012\",\"2\\u00ba Semestre 2012\",\"1\\u00ba Semestre 2013\",\"2\\u00ba Semestre 2013\",\"1\\u00ba Semestre 2014\",\"2\\u00ba Semestre 2014\",\"1\\u00ba Semestre 2015\",\"2\\u00ba Semestre 2015\",\"1\\u00ba Semestre 2016\",\"2\\u00ba Semestre 2016\",\"1\\u00ba Semestre 2017\",\"2\\u00ba Semestre 2017\",\"1\\u00ba Semestre 2018\",\"2\\u00ba Semestre 2018\",\"1\\u00ba Semestre 2019\",\"2\\u00ba Semestre 2019\"],\"xaxis\":\"x\",\"y\":[2756,2792,1516,1480,1620,2435,2775,5649,6824,7014,6859,5750,6895,8201,7683,9,7253,7849,7105,6554,7710,6524,6206,5831,6346,7204,7268,7938,6987,9466],\"yaxis\":\"y\"}],                        {\"legend\":{\"title\":{\"text\":\"variable\"},\"tracegroupgap\":0},\"template\":{\"data\":{\"bar\":[{\"error_x\":{\"color\":\"#2a3f5f\"},\"error_y\":{\"color\":\"#2a3f5f\"},\"marker\":{\"line\":{\"color\":\"#E5ECF6\",\"width\":0.5},\"pattern\":{\"fillmode\":\"overlay\",\"size\":10,\"solidity\":0.2}},\"type\":\"bar\"}],\"barpolar\":[{\"marker\":{\"line\":{\"color\":\"#E5ECF6\",\"width\":0.5},\"pattern\":{\"fillmode\":\"overlay\",\"size\":10,\"solidity\":0.2}},\"type\":\"barpolar\"}],\"carpet\":[{\"aaxis\":{\"endlinecolor\":\"#2a3f5f\",\"gridcolor\":\"white\",\"linecolor\":\"white\",\"minorgridcolor\":\"white\",\"startlinecolor\":\"#2a3f5f\"},\"baxis\":{\"endlinecolor\":\"#2a3f5f\",\"gridcolor\":\"white\",\"linecolor\":\"white\",\"minorgridcolor\":\"white\",\"startlinecolor\":\"#2a3f5f\"},\"type\":\"carpet\"}],\"choropleth\":[{\"colorbar\":{\"outlinewidth\":0,\"ticks\":\"\"},\"type\":\"choropleth\"}],\"contour\":[{\"colorbar\":{\"outlinewidth\":0,\"ticks\":\"\"},\"colorscale\":[[0.0,\"#0d0887\"],[0.1111111111111111,\"#46039f\"],[0.2222222222222222,\"#7201a8\"],[0.3333333333333333,\"#9c179e\"],[0.4444444444444444,\"#bd3786\"],[0.5555555555555556,\"#d8576b\"],[0.6666666666666666,\"#ed7953\"],[0.7777777777777778,\"#fb9f3a\"],[0.8888888888888888,\"#fdca26\"],[1.0,\"#f0f921\"]],\"type\":\"contour\"}],\"contourcarpet\":[{\"colorbar\":{\"outlinewidth\":0,\"ticks\":\"\"},\"type\":\"contourcarpet\"}],\"heatmap\":[{\"colorbar\":{\"outlinewidth\":0,\"ticks\":\"\"},\"colorscale\":[[0.0,\"#0d0887\"],[0.1111111111111111,\"#46039f\"],[0.2222222222222222,\"#7201a8\"],[0.3333333333333333,\"#9c179e\"],[0.4444444444444444,\"#bd3786\"],[0.5555555555555556,\"#d8576b\"],[0.6666666666666666,\"#ed7953\"],[0.7777777777777778,\"#fb9f3a\"],[0.8888888888888888,\"#fdca26\"],[1.0,\"#f0f921\"]],\"type\":\"heatmap\"}],\"heatmapgl\":[{\"colorbar\":{\"outlinewidth\":0,\"ticks\":\"\"},\"colorscale\":[[0.0,\"#0d0887\"],[0.1111111111111111,\"#46039f\"],[0.2222222222222222,\"#7201a8\"],[0.3333333333333333,\"#9c179e\"],[0.4444444444444444,\"#bd3786\"],[0.5555555555555556,\"#d8576b\"],[0.6666666666666666,\"#ed7953\"],[0.7777777777777778,\"#fb9f3a\"],[0.8888888888888888,\"#fdca26\"],[1.0,\"#f0f921\"]],\"type\":\"heatmapgl\"}],\"histogram\":[{\"marker\":{\"pattern\":{\"fillmode\":\"overlay\",\"size\":10,\"solidity\":0.2}},\"type\":\"histogram\"}],\"histogram2d\":[{\"colorbar\":{\"outlinewidth\":0,\"ticks\":\"\"},\"colorscale\":[[0.0,\"#0d0887\"],[0.1111111111111111,\"#46039f\"],[0.2222222222222222,\"#7201a8\"],[0.3333333333333333,\"#9c179e\"],[0.4444444444444444,\"#bd3786\"],[0.5555555555555556,\"#d8576b\"],[0.6666666666666666,\"#ed7953\"],[0.7777777777777778,\"#fb9f3a\"],[0.8888888888888888,\"#fdca26\"],[1.0,\"#f0f921\"]],\"type\":\"histogram2d\"}],\"histogram2dcontour\":[{\"colorbar\":{\"outlinewidth\":0,\"ticks\":\"\"},\"colorscale\":[[0.0,\"#0d0887\"],[0.1111111111111111,\"#46039f\"],[0.2222222222222222,\"#7201a8\"],[0.3333333333333333,\"#9c179e\"],[0.4444444444444444,\"#bd3786\"],[0.5555555555555556,\"#d8576b\"],[0.6666666666666666,\"#ed7953\"],[0.7777777777777778,\"#fb9f3a\"],[0.8888888888888888,\"#fdca26\"],[1.0,\"#f0f921\"]],\"type\":\"histogram2dcontour\"}],\"mesh3d\":[{\"colorbar\":{\"outlinewidth\":0,\"ticks\":\"\"},\"type\":\"mesh3d\"}],\"parcoords\":[{\"line\":{\"colorbar\":{\"outlinewidth\":0,\"ticks\":\"\"}},\"type\":\"parcoords\"}],\"pie\":[{\"automargin\":true,\"type\":\"pie\"}],\"scatter\":[{\"marker\":{\"colorbar\":{\"outlinewidth\":0,\"ticks\":\"\"}},\"type\":\"scatter\"}],\"scatter3d\":[{\"line\":{\"colorbar\":{\"outlinewidth\":0,\"ticks\":\"\"}},\"marker\":{\"colorbar\":{\"outlinewidth\":0,\"ticks\":\"\"}},\"type\":\"scatter3d\"}],\"scattercarpet\":[{\"marker\":{\"colorbar\":{\"outlinewidth\":0,\"ticks\":\"\"}},\"type\":\"scattercarpet\"}],\"scattergeo\":[{\"marker\":{\"colorbar\":{\"outlinewidth\":0,\"ticks\":\"\"}},\"type\":\"scattergeo\"}],\"scattergl\":[{\"marker\":{\"colorbar\":{\"outlinewidth\":0,\"ticks\":\"\"}},\"type\":\"scattergl\"}],\"scattermapbox\":[{\"marker\":{\"colorbar\":{\"outlinewidth\":0,\"ticks\":\"\"}},\"type\":\"scattermapbox\"}],\"scatterpolar\":[{\"marker\":{\"colorbar\":{\"outlinewidth\":0,\"ticks\":\"\"}},\"type\":\"scatterpolar\"}],\"scatterpolargl\":[{\"marker\":{\"colorbar\":{\"outlinewidth\":0,\"ticks\":\"\"}},\"type\":\"scatterpolargl\"}],\"scatterternary\":[{\"marker\":{\"colorbar\":{\"outlinewidth\":0,\"ticks\":\"\"}},\"type\":\"scatterternary\"}],\"surface\":[{\"colorbar\":{\"outlinewidth\":0,\"ticks\":\"\"},\"colorscale\":[[0.0,\"#0d0887\"],[0.1111111111111111,\"#46039f\"],[0.2222222222222222,\"#7201a8\"],[0.3333333333333333,\"#9c179e\"],[0.4444444444444444,\"#bd3786\"],[0.5555555555555556,\"#d8576b\"],[0.6666666666666666,\"#ed7953\"],[0.7777777777777778,\"#fb9f3a\"],[0.8888888888888888,\"#fdca26\"],[1.0,\"#f0f921\"]],\"type\":\"surface\"}],\"table\":[{\"cells\":{\"fill\":{\"color\":\"#EBF0F8\"},\"line\":{\"color\":\"white\"}},\"header\":{\"fill\":{\"color\":\"#C8D4E3\"},\"line\":{\"color\":\"white\"}},\"type\":\"table\"}]},\"layout\":{\"annotationdefaults\":{\"arrowcolor\":\"#2a3f5f\",\"arrowhead\":0,\"arrowwidth\":1},\"autotypenumbers\":\"strict\",\"coloraxis\":{\"colorbar\":{\"outlinewidth\":0,\"ticks\":\"\"}},\"colorscale\":{\"diverging\":[[0,\"#8e0152\"],[0.1,\"#c51b7d\"],[0.2,\"#de77ae\"],[0.3,\"#f1b6da\"],[0.4,\"#fde0ef\"],[0.5,\"#f7f7f7\"],[0.6,\"#e6f5d0\"],[0.7,\"#b8e186\"],[0.8,\"#7fbc41\"],[0.9,\"#4d9221\"],[1,\"#276419\"]],\"sequential\":[[0.0,\"#0d0887\"],[0.1111111111111111,\"#46039f\"],[0.2222222222222222,\"#7201a8\"],[0.3333333333333333,\"#9c179e\"],[0.4444444444444444,\"#bd3786\"],[0.5555555555555556,\"#d8576b\"],[0.6666666666666666,\"#ed7953\"],[0.7777777777777778,\"#fb9f3a\"],[0.8888888888888888,\"#fdca26\"],[1.0,\"#f0f921\"]],\"sequentialminus\":[[0.0,\"#0d0887\"],[0.1111111111111111,\"#46039f\"],[0.2222222222222222,\"#7201a8\"],[0.3333333333333333,\"#9c179e\"],[0.4444444444444444,\"#bd3786\"],[0.5555555555555556,\"#d8576b\"],[0.6666666666666666,\"#ed7953\"],[0.7777777777777778,\"#fb9f3a\"],[0.8888888888888888,\"#fdca26\"],[1.0,\"#f0f921\"]]},\"colorway\":[\"#636efa\",\"#EF553B\",\"#00cc96\",\"#ab63fa\",\"#FFA15A\",\"#19d3f3\",\"#FF6692\",\"#B6E880\",\"#FF97FF\",\"#FECB52\"],\"font\":{\"color\":\"#2a3f5f\"},\"geo\":{\"bgcolor\":\"white\",\"lakecolor\":\"white\",\"landcolor\":\"#E5ECF6\",\"showlakes\":true,\"showland\":true,\"subunitcolor\":\"white\"},\"hoverlabel\":{\"align\":\"left\"},\"hovermode\":\"closest\",\"mapbox\":{\"style\":\"light\"},\"paper_bgcolor\":\"white\",\"plot_bgcolor\":\"#E5ECF6\",\"polar\":{\"angularaxis\":{\"gridcolor\":\"white\",\"linecolor\":\"white\",\"ticks\":\"\"},\"bgcolor\":\"#E5ECF6\",\"radialaxis\":{\"gridcolor\":\"white\",\"linecolor\":\"white\",\"ticks\":\"\"}},\"scene\":{\"xaxis\":{\"backgroundcolor\":\"#E5ECF6\",\"gridcolor\":\"white\",\"gridwidth\":2,\"linecolor\":\"white\",\"showbackground\":true,\"ticks\":\"\",\"zerolinecolor\":\"white\"},\"yaxis\":{\"backgroundcolor\":\"#E5ECF6\",\"gridcolor\":\"white\",\"gridwidth\":2,\"linecolor\":\"white\",\"showbackground\":true,\"ticks\":\"\",\"zerolinecolor\":\"white\"},\"zaxis\":{\"backgroundcolor\":\"#E5ECF6\",\"gridcolor\":\"white\",\"gridwidth\":2,\"linecolor\":\"white\",\"showbackground\":true,\"ticks\":\"\",\"zerolinecolor\":\"white\"}},\"shapedefaults\":{\"line\":{\"color\":\"#2a3f5f\"}},\"ternary\":{\"aaxis\":{\"gridcolor\":\"white\",\"linecolor\":\"white\",\"ticks\":\"\"},\"baxis\":{\"gridcolor\":\"white\",\"linecolor\":\"white\",\"ticks\":\"\"},\"bgcolor\":\"#E5ECF6\",\"caxis\":{\"gridcolor\":\"white\",\"linecolor\":\"white\",\"ticks\":\"\"}},\"title\":{\"x\":0.05},\"xaxis\":{\"automargin\":true,\"gridcolor\":\"white\",\"linecolor\":\"white\",\"ticks\":\"\",\"title\":{\"standoff\":15},\"zerolinecolor\":\"white\",\"zerolinewidth\":2},\"yaxis\":{\"automargin\":true,\"gridcolor\":\"white\",\"linecolor\":\"white\",\"ticks\":\"\",\"title\":{\"standoff\":15},\"zerolinecolor\":\"white\",\"zerolinewidth\":2}}},\"title\":{\"text\":\"N\\u00famero de Atos por Regi\\u00e3o\"},\"xaxis\":{\"anchor\":\"y\",\"domain\":[0.0,1.0],\"title\":{\"text\":\"periodo\"}},\"yaxis\":{\"anchor\":\"x\",\"domain\":[0.0,1.0],\"title\":{\"text\":\"value\"}}},                        {\"responsive\": true}                    ).then(function(){\n",
       "                            \n",
       "var gd = document.getElementById('f1cd4ff2-701f-409b-8771-12b6dc95cf79');\n",
       "var x = new MutationObserver(function (mutations, observer) {{\n",
       "        var display = window.getComputedStyle(gd).display;\n",
       "        if (!display || display === 'none') {{\n",
       "            console.log([gd, 'removed!']);\n",
       "            Plotly.purge(gd);\n",
       "            observer.disconnect();\n",
       "        }}\n",
       "}});\n",
       "\n",
       "// Listen for the removal of the full notebook cells\n",
       "var notebookContainer = gd.closest('#notebook-container');\n",
       "if (notebookContainer) {{\n",
       "    x.observe(notebookContainer, {childList: true});\n",
       "}}\n",
       "\n",
       "// Listen for the clearing of the current output cell\n",
       "var outputEl = gd.closest('.output');\n",
       "if (outputEl) {{\n",
       "    x.observe(outputEl, {childList: true});\n",
       "}}\n",
       "\n",
       "                        })                };                });            </script>        </div>"
      ]
     },
     "metadata": {},
     "output_type": "display_data"
    }
   ],
   "source": [
    "atos = px.line(df_ev_atos, x='periodo', y = ['1ato', '2ato', '3ato', '4ato', '5ato', '6ato', '7ato', '8ato', '9ato'], title='Número de Atos por Região')\n",
    "atos.show()"
   ]
  },
  {
   "cell_type": "code",
   "execution_count": null,
   "id": "b3bbb5ef",
   "metadata": {},
   "outputs": [],
   "source": []
  },
  {
   "cell_type": "code",
   "execution_count": null,
   "id": "ad075269",
   "metadata": {},
   "outputs": [],
   "source": []
  }
 ],
 "metadata": {
  "kernelspec": {
   "display_name": "Python 3 (ipykernel)",
   "language": "python",
   "name": "python3"
  },
  "language_info": {
   "codemirror_mode": {
    "name": "ipython",
    "version": 3
   },
   "file_extension": ".py",
   "mimetype": "text/x-python",
   "name": "python",
   "nbconvert_exporter": "python",
   "pygments_lexer": "ipython3",
   "version": "3.9.5"
  }
 },
 "nbformat": 4,
 "nbformat_minor": 5
}
